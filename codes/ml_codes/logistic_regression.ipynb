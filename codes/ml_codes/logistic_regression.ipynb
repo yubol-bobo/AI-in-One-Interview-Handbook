{
 "cells": [
  {
   "cell_type": "code",
   "execution_count": null,
   "id": "8c3c2eda",
   "metadata": {},
   "outputs": [],
   "source": [
    "class LogisticRegression:\n",
    "  def __init__(self, lr=0.001, n_iters=1000):\n",
    "    self.lr = lr\n",
    "    self.n_iters = n_iters\n",
    "    self.weights = None\n",
    "    self.bias = None\n",
    "\n",
    "  def _sigmoid(self, z):\n",
    "    return 1/(1+np.exp(-z))\n",
    "\n",
    "  def fit(self, X, y):\n",
    "    # init parameters\n",
    "    n_samples, n_features = X.shape\n",
    "    self.weights = np.zeros(n_features)\n",
    "    self.bias = 0\n",
    "\n",
    "    # gradient descent\n",
    "    for _ in range(self.n_iters):\n",
    "      z = np.dot(X, self.weights) + self.bias\n",
    "      y_pred = self._sigmoid(z)\n",
    "\n",
    "      dw = (1/n_samples) * np.dot(X.T, (y_pred-y))  # for each feature->X.T\n",
    "      db = (1/n_samples) * np.sum(y_pred-y)\n",
    "\n",
    "      self.weights -= self.lr*dw\n",
    "      self.bias -= self.lr*db\n",
    "  \n",
    "  def predict(self, X):\n",
    "    z_pred = np.dot(X, self.weights) + self.bias\n",
    "    y_pred = self._sigmoid(z_pred)\n",
    "    y_labels = [1 if i>0.5 else 0 for i in y_pred]\n",
    "    return y_labels"
   ]
  },
  {
   "cell_type": "code",
   "execution_count": null,
   "id": "4db818ff",
   "metadata": {},
   "outputs": [],
   "source": [
    "import numpy as np\n",
    "from sklearn.model_selection import train_test_split\n",
    "from sklearn import datasets\n",
    "import matplotlib.pyplot as plt\n",
    "\n",
    "bc = datasets.load_breast_cancer()\n",
    "X, y = bc.data, bc.target\n",
    "X_train, X_test, y_train, y_test = train_test_split(X, y, test_size=0.2, random_state=1234)\n",
    "def accuracy(y_true, y_pred):\n",
    "    accuracy = np.sum(y_true == y_pred) / len(y_true)\n",
    "    return accuracy\n",
    "regressor = LogisticRegression(lr=0.0001, n_iters=1000)\n",
    "regressor.fit(X_train, y_train)\n",
    "predictions = regressor.predict(X_test)\n",
    "print(\"LR classification accuracy:\", accuracy(y_test, predictions))\n"
   ]
  }
 ],
 "metadata": {
  "language_info": {
   "name": "python"
  }
 },
 "nbformat": 4,
 "nbformat_minor": 5
}
