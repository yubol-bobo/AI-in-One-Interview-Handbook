{
 "cells": [
  {
   "cell_type": "code",
   "execution_count": null,
   "id": "cf5fdb30",
   "metadata": {},
   "outputs": [],
   "source": [
    "import numpy as np\n",
    "from collections import Counter\n",
    "import matplotlib.pyplot as plt\n",
    "from sklearn import datasets\n",
    "from sklearn.model_selection import train_test_split\n",
    "from sklearn.metrics import accuracy_score\n",
    "\n",
    "\n",
    "class KNN:\n",
    "  def __init__(self, K=3):\n",
    "    self.K = K\n",
    "  \n",
    "  def fit(self, X, y):\n",
    "    self.X_train = X\n",
    "    self.y_train = y\n",
    "\n",
    "\n",
    "  def predict(self, X):\n",
    "\n",
    "    preds = [self.single_prediction(x) for x in X]\n",
    "    return preds\n",
    "\n",
    "  def single_prediction(self, x):\n",
    "    distances = [self.euclidean_distance(x, x_train) for x_train in self.X_train]\n",
    "    k_nearest_indices = np.argsort(distances)[:self.K]\n",
    "    k_nearest_labels = [self.y_train[idx] for idx in k_nearest_indices]\n",
    "    return Counter(k_nearest_labels).most_common(1)[0][0]\n",
    "\n",
    "  def euclidean_distance(self, x1, x2):\n",
    "    return np.sqrt(np.sum((x1-x2)**2))  "
   ]
  },
  {
   "cell_type": "code",
   "execution_count": 40,
   "id": "271377c5",
   "metadata": {},
   "outputs": [
    {
     "name": "stdout",
     "output_type": "stream",
     "text": [
      "Accuracy: 86.67%\n"
     ]
    }
   ],
   "source": [
    "clf = KNN(k=3)\n",
    "iris = datasets.load_iris()\n",
    "X, y = iris.data, iris.target\n",
    "X_train, X_test, y_train, y_test = train_test_split(X, y, test_size=0.2, random_state=15213)\n",
    "\n",
    "clf.fit(X_train, y_train)\n",
    "predictions = clf.predict(X_test, y_test)\n",
    "accuracy = accuracy_score(y_test, predictions)\n",
    "print(f\"Accuracy: {accuracy * 100:.2f}%\")"
   ]
  }
 ],
 "metadata": {
  "kernelspec": {
   "display_name": "Python 3",
   "language": "python",
   "name": "python3"
  },
  "language_info": {
   "codemirror_mode": {
    "name": "ipython",
    "version": 3
   },
   "file_extension": ".py",
   "mimetype": "text/x-python",
   "name": "python",
   "nbconvert_exporter": "python",
   "pygments_lexer": "ipython3",
   "version": "3.11.9"
  }
 },
 "nbformat": 4,
 "nbformat_minor": 5
}
