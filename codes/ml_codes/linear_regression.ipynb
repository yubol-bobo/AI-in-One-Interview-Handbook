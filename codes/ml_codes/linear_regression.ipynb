{
 "cells": [
  {
   "cell_type": "code",
   "execution_count": null,
   "id": "43015baa",
   "metadata": {},
   "outputs": [],
   "source": [
    "\n",
    "import numpy as np\n",
    "from sklearn.model_selection import train_test_split\n",
    "from sklearn import datasets\n",
    "import matplotlib.pyplot as plt\n",
    "X, y = datasets.make_regression(n_samples=100, n_features=1, noise=20, random_state=4)\n",
    "X_train, X_test, y_train, y_test = train_test_split(X, y, test_size=0.2, random_state=1234)\n",
    "\n",
    "\n",
    "fig = plt.figure(figsize=(8,6))\n",
    "plt.scatter(X[:, 0], y, color = \"b\", marker = \"o\", s = 30)\n",
    "plt.show()\n",
    "print(X_train.shape)\n",
    "print(y_train.shape)"
   ]
  },
  {
   "cell_type": "code",
   "execution_count": null,
   "id": "33b19ac3",
   "metadata": {},
   "outputs": [],
   "source": [
    "class LinearRegression:\n",
    "  def __init__(self, lr=0.001, n_iters=1000):\n",
    "    self.lr = lr\n",
    "    self.n_iters = n_iters\n",
    "    self.weights = None\n",
    "    self.bias = None\n",
    "\n",
    "  def fit(self, X, y):\n",
    "    # init parameters\n",
    "    n_samples, n_features = X.shape\n",
    "    self.weights = np.zeros(n_features)\n",
    "    self.bias = 0\n",
    "\n",
    "    # gradient descent\n",
    "    for _ in range(self.n_iters):\n",
    "      y_pred = np.dot(X, self.weights) + self.bias\n",
    "      dw = (1/n_samples) * np.dot(X.T, (y_pred-y))  # for each feature->X.T\n",
    "      db = (1/n_samples) * np.sum(y_pred-y)\n",
    "\n",
    "      self.weights -= self.lr*dw\n",
    "      self.bias -= self.lr*db\n",
    "  \n",
    "  def predict(self, X):\n",
    "    return np.dot(X, self.weights) + self.bias"
   ]
  },
  {
   "cell_type": "code",
   "execution_count": null,
   "id": "81ee5340",
   "metadata": {},
   "outputs": [],
   "source": [
    "regressor = LinearRegression(lr=0.01)\n",
    "regressor.fit(X_train, y_train)\n",
    "pred = regressor.predict(X_test)\n",
    "\n",
    "def mse(y_true, y_pred):\n",
    "  return np.mean((y_true - y_pred)**2)\n",
    "\n",
    "mse_value = mse(y_test, pred)\n",
    "mse_value"
   ]
  },
  {
   "cell_type": "code",
   "execution_count": null,
   "id": "11d94c16",
   "metadata": {},
   "outputs": [],
   "source": [
    "\n",
    "y_pred_line = regressor.predict(X)\n",
    "cmap = plt.get_cmap('viridis')\n",
    "fig = plt.figure(figsize=(8,6))\n",
    "m1 = plt.scatter(X_train, y_train, color=cmap(0.9), s=10)\n",
    "m2 = plt.scatter(X_test, y_test, color=cmap(0.5), s=10)\n",
    "plt.plot(X, y_pred_line, color='black', linewidth=2, label=\"Prediction\")\n",
    "plt.show()"
   ]
  }
 ],
 "metadata": {
  "language_info": {
   "name": "python"
  }
 },
 "nbformat": 4,
 "nbformat_minor": 5
}
